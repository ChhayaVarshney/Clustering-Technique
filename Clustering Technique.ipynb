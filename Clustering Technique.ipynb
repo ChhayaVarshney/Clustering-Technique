{
 "cells": [
  {
   "cell_type": "markdown",
   "id": "029cdde3",
   "metadata": {},
   "source": [
    "### Initializing libraries and extracting data"
   ]
  },
  {
   "cell_type": "code",
   "execution_count": 20,
   "id": "b9f6d4fb",
   "metadata": {},
   "outputs": [],
   "source": [
    "import pandas as pd\n",
    "import seaborn as sns\n",
    "import matplotlib.pyplot as plt\n",
    "from kneed import KneeLocator\n",
    "from sklearn.cluster import KMeans\n",
    "from sklearn.model_selection import train_test_split\n",
    "import warnings\n",
    "import numpy as np"
   ]
  },
  {
   "cell_type": "code",
   "execution_count": 2,
   "id": "297d5c14",
   "metadata": {},
   "outputs": [],
   "source": [
    "warnings.filterwarnings('ignore')"
   ]
  },
  {
   "cell_type": "code",
   "execution_count": 3,
   "id": "6173da65",
   "metadata": {},
   "outputs": [],
   "source": [
    "train=pd.read_csv(\"C:/Users/chhay/OneDrive/Desktop/Projects/Task12/train.csv\")"
   ]
  },
  {
   "cell_type": "code",
   "execution_count": 4,
   "id": "b396f049",
   "metadata": {},
   "outputs": [
    {
     "data": {
      "text/html": [
       "<div>\n",
       "<style scoped>\n",
       "    .dataframe tbody tr th:only-of-type {\n",
       "        vertical-align: middle;\n",
       "    }\n",
       "\n",
       "    .dataframe tbody tr th {\n",
       "        vertical-align: top;\n",
       "    }\n",
       "\n",
       "    .dataframe thead th {\n",
       "        text-align: right;\n",
       "    }\n",
       "</style>\n",
       "<table border=\"1\" class=\"dataframe\">\n",
       "  <thead>\n",
       "    <tr style=\"text-align: right;\">\n",
       "      <th></th>\n",
       "      <th>T1</th>\n",
       "      <th>T2</th>\n",
       "      <th>T3</th>\n",
       "      <th>T4</th>\n",
       "      <th>T5</th>\n",
       "      <th>T6</th>\n",
       "      <th>T7</th>\n",
       "      <th>T8</th>\n",
       "      <th>T9</th>\n",
       "      <th>T10</th>\n",
       "      <th>T11</th>\n",
       "      <th>T12</th>\n",
       "      <th>T13</th>\n",
       "      <th>T14</th>\n",
       "      <th>T15</th>\n",
       "      <th>T16</th>\n",
       "      <th>T17</th>\n",
       "      <th>T18</th>\n",
       "      <th>target</th>\n",
       "    </tr>\n",
       "  </thead>\n",
       "  <tbody>\n",
       "    <tr>\n",
       "      <th>0</th>\n",
       "      <td>-70</td>\n",
       "      <td>-61</td>\n",
       "      <td>-66</td>\n",
       "      <td>-53</td>\n",
       "      <td>-51</td>\n",
       "      <td>-63</td>\n",
       "      <td>-82</td>\n",
       "      <td>-57</td>\n",
       "      <td>-76</td>\n",
       "      <td>-78</td>\n",
       "      <td>-66</td>\n",
       "      <td>-66</td>\n",
       "      <td>-61</td>\n",
       "      <td>-59</td>\n",
       "      <td>-73</td>\n",
       "      <td>-75</td>\n",
       "      <td>-63</td>\n",
       "      <td>-77</td>\n",
       "      <td>B37</td>\n",
       "    </tr>\n",
       "    <tr>\n",
       "      <th>1</th>\n",
       "      <td>-77</td>\n",
       "      <td>-74</td>\n",
       "      <td>-71</td>\n",
       "      <td>-76</td>\n",
       "      <td>-65</td>\n",
       "      <td>-63</td>\n",
       "      <td>-66</td>\n",
       "      <td>-52</td>\n",
       "      <td>-55</td>\n",
       "      <td>-75</td>\n",
       "      <td>-72</td>\n",
       "      <td>-75</td>\n",
       "      <td>-74</td>\n",
       "      <td>-61</td>\n",
       "      <td>-64</td>\n",
       "      <td>-63</td>\n",
       "      <td>-53</td>\n",
       "      <td>-63</td>\n",
       "      <td>B61</td>\n",
       "    </tr>\n",
       "    <tr>\n",
       "      <th>2</th>\n",
       "      <td>-53</td>\n",
       "      <td>-38</td>\n",
       "      <td>-55</td>\n",
       "      <td>-66</td>\n",
       "      <td>-62</td>\n",
       "      <td>-62</td>\n",
       "      <td>-65</td>\n",
       "      <td>-70</td>\n",
       "      <td>-62</td>\n",
       "      <td>-52</td>\n",
       "      <td>-56</td>\n",
       "      <td>-53</td>\n",
       "      <td>-66</td>\n",
       "      <td>-68</td>\n",
       "      <td>-72</td>\n",
       "      <td>-60</td>\n",
       "      <td>-68</td>\n",
       "      <td>-77</td>\n",
       "      <td>A19</td>\n",
       "    </tr>\n",
       "    <tr>\n",
       "      <th>3</th>\n",
       "      <td>-72</td>\n",
       "      <td>-62</td>\n",
       "      <td>-59</td>\n",
       "      <td>-65</td>\n",
       "      <td>-65</td>\n",
       "      <td>-65</td>\n",
       "      <td>-78</td>\n",
       "      <td>-82</td>\n",
       "      <td>-83</td>\n",
       "      <td>-59</td>\n",
       "      <td>-84</td>\n",
       "      <td>-60</td>\n",
       "      <td>-64</td>\n",
       "      <td>-83</td>\n",
       "      <td>-69</td>\n",
       "      <td>-72</td>\n",
       "      <td>-95</td>\n",
       "      <td>-73</td>\n",
       "      <td>A22</td>\n",
       "    </tr>\n",
       "    <tr>\n",
       "      <th>4</th>\n",
       "      <td>-67</td>\n",
       "      <td>-69</td>\n",
       "      <td>-65</td>\n",
       "      <td>-63</td>\n",
       "      <td>-59</td>\n",
       "      <td>-53</td>\n",
       "      <td>-70</td>\n",
       "      <td>-72</td>\n",
       "      <td>-71</td>\n",
       "      <td>-60</td>\n",
       "      <td>-61</td>\n",
       "      <td>-57</td>\n",
       "      <td>-54</td>\n",
       "      <td>-76</td>\n",
       "      <td>-61</td>\n",
       "      <td>-66</td>\n",
       "      <td>-71</td>\n",
       "      <td>-80</td>\n",
       "      <td>A33</td>\n",
       "    </tr>\n",
       "  </tbody>\n",
       "</table>\n",
       "</div>"
      ],
      "text/plain": [
       "   T1  T2  T3  T4  T5  T6  T7  T8  T9  T10  T11  T12  T13  T14  T15  T16  T17  \\\n",
       "0 -70 -61 -66 -53 -51 -63 -82 -57 -76  -78  -66  -66  -61  -59  -73  -75  -63   \n",
       "1 -77 -74 -71 -76 -65 -63 -66 -52 -55  -75  -72  -75  -74  -61  -64  -63  -53   \n",
       "2 -53 -38 -55 -66 -62 -62 -65 -70 -62  -52  -56  -53  -66  -68  -72  -60  -68   \n",
       "3 -72 -62 -59 -65 -65 -65 -78 -82 -83  -59  -84  -60  -64  -83  -69  -72  -95   \n",
       "4 -67 -69 -65 -63 -59 -53 -70 -72 -71  -60  -61  -57  -54  -76  -61  -66  -71   \n",
       "\n",
       "   T18 target  \n",
       "0  -77    B37  \n",
       "1  -63    B61  \n",
       "2  -77    A19  \n",
       "3  -73    A22  \n",
       "4  -80    A33  "
      ]
     },
     "execution_count": 4,
     "metadata": {},
     "output_type": "execute_result"
    }
   ],
   "source": [
    "train.head()"
   ]
  },
  {
   "cell_type": "code",
   "execution_count": 5,
   "id": "c438cc5c",
   "metadata": {},
   "outputs": [
    {
     "name": "stdout",
     "output_type": "stream",
     "text": [
      "<class 'pandas.core.frame.DataFrame'>\n",
      "RangeIndex: 36752 entries, 0 to 36751\n",
      "Data columns (total 19 columns):\n",
      " #   Column  Non-Null Count  Dtype \n",
      "---  ------  --------------  ----- \n",
      " 0   T1      36752 non-null  int64 \n",
      " 1   T2      36752 non-null  int64 \n",
      " 2   T3      36752 non-null  int64 \n",
      " 3   T4      36752 non-null  int64 \n",
      " 4   T5      36752 non-null  int64 \n",
      " 5   T6      36752 non-null  int64 \n",
      " 6   T7      36752 non-null  int64 \n",
      " 7   T8      36752 non-null  int64 \n",
      " 8   T9      36752 non-null  int64 \n",
      " 9   T10     36752 non-null  int64 \n",
      " 10  T11     36752 non-null  int64 \n",
      " 11  T12     36752 non-null  int64 \n",
      " 12  T13     36752 non-null  int64 \n",
      " 13  T14     36752 non-null  int64 \n",
      " 14  T15     36752 non-null  int64 \n",
      " 15  T16     36752 non-null  int64 \n",
      " 16  T17     36752 non-null  int64 \n",
      " 17  T18     36752 non-null  int64 \n",
      " 18  target  36752 non-null  object\n",
      "dtypes: int64(18), object(1)\n",
      "memory usage: 5.3+ MB\n"
     ]
    }
   ],
   "source": [
    "train.info()"
   ]
  },
  {
   "cell_type": "code",
   "execution_count": 6,
   "id": "54eea09d",
   "metadata": {},
   "outputs": [
    {
     "data": {
      "text/html": [
       "<div>\n",
       "<style scoped>\n",
       "    .dataframe tbody tr th:only-of-type {\n",
       "        vertical-align: middle;\n",
       "    }\n",
       "\n",
       "    .dataframe tbody tr th {\n",
       "        vertical-align: top;\n",
       "    }\n",
       "\n",
       "    .dataframe thead th {\n",
       "        text-align: right;\n",
       "    }\n",
       "</style>\n",
       "<table border=\"1\" class=\"dataframe\">\n",
       "  <thead>\n",
       "    <tr style=\"text-align: right;\">\n",
       "      <th></th>\n",
       "      <th>T1</th>\n",
       "      <th>T2</th>\n",
       "      <th>T3</th>\n",
       "      <th>T4</th>\n",
       "      <th>T5</th>\n",
       "      <th>T6</th>\n",
       "      <th>T7</th>\n",
       "      <th>T8</th>\n",
       "      <th>T9</th>\n",
       "      <th>T10</th>\n",
       "      <th>T11</th>\n",
       "      <th>T12</th>\n",
       "      <th>T13</th>\n",
       "      <th>T14</th>\n",
       "      <th>T15</th>\n",
       "      <th>T16</th>\n",
       "      <th>T17</th>\n",
       "      <th>T18</th>\n",
       "    </tr>\n",
       "  </thead>\n",
       "  <tbody>\n",
       "    <tr>\n",
       "      <th>count</th>\n",
       "      <td>36752.000000</td>\n",
       "      <td>36752.000000</td>\n",
       "      <td>36752.000000</td>\n",
       "      <td>36752.000000</td>\n",
       "      <td>36752.000000</td>\n",
       "      <td>36752.000000</td>\n",
       "      <td>36752.000000</td>\n",
       "      <td>36752.000000</td>\n",
       "      <td>36752.000000</td>\n",
       "      <td>36752.000000</td>\n",
       "      <td>36752.000000</td>\n",
       "      <td>36752.000000</td>\n",
       "      <td>36752.000000</td>\n",
       "      <td>36752.000000</td>\n",
       "      <td>36752.000000</td>\n",
       "      <td>36752.000000</td>\n",
       "      <td>36752.000000</td>\n",
       "      <td>36752.000000</td>\n",
       "    </tr>\n",
       "    <tr>\n",
       "      <th>mean</th>\n",
       "      <td>-65.865449</td>\n",
       "      <td>-64.521931</td>\n",
       "      <td>-64.574472</td>\n",
       "      <td>-65.296474</td>\n",
       "      <td>-64.462152</td>\n",
       "      <td>-63.318731</td>\n",
       "      <td>-67.030202</td>\n",
       "      <td>-66.591260</td>\n",
       "      <td>-65.692479</td>\n",
       "      <td>-65.555181</td>\n",
       "      <td>-65.681922</td>\n",
       "      <td>-66.244204</td>\n",
       "      <td>-63.962614</td>\n",
       "      <td>-64.399080</td>\n",
       "      <td>-64.550011</td>\n",
       "      <td>-64.136782</td>\n",
       "      <td>-65.910726</td>\n",
       "      <td>-66.590417</td>\n",
       "    </tr>\n",
       "    <tr>\n",
       "      <th>std</th>\n",
       "      <td>8.737286</td>\n",
       "      <td>8.914559</td>\n",
       "      <td>8.154517</td>\n",
       "      <td>8.142803</td>\n",
       "      <td>8.068375</td>\n",
       "      <td>8.651501</td>\n",
       "      <td>9.257529</td>\n",
       "      <td>10.160193</td>\n",
       "      <td>10.598247</td>\n",
       "      <td>10.408147</td>\n",
       "      <td>9.453958</td>\n",
       "      <td>8.866239</td>\n",
       "      <td>8.254217</td>\n",
       "      <td>9.562839</td>\n",
       "      <td>9.207343</td>\n",
       "      <td>10.540542</td>\n",
       "      <td>10.071973</td>\n",
       "      <td>10.600992</td>\n",
       "    </tr>\n",
       "    <tr>\n",
       "      <th>min</th>\n",
       "      <td>-95.000000</td>\n",
       "      <td>-95.000000</td>\n",
       "      <td>-95.000000</td>\n",
       "      <td>-95.000000</td>\n",
       "      <td>-95.000000</td>\n",
       "      <td>-95.000000</td>\n",
       "      <td>-95.000000</td>\n",
       "      <td>-95.000000</td>\n",
       "      <td>-95.000000</td>\n",
       "      <td>-95.000000</td>\n",
       "      <td>-95.000000</td>\n",
       "      <td>-95.000000</td>\n",
       "      <td>-95.000000</td>\n",
       "      <td>-95.000000</td>\n",
       "      <td>-95.000000</td>\n",
       "      <td>-95.000000</td>\n",
       "      <td>-95.000000</td>\n",
       "      <td>-95.000000</td>\n",
       "    </tr>\n",
       "    <tr>\n",
       "      <th>25%</th>\n",
       "      <td>-72.000000</td>\n",
       "      <td>-70.000000</td>\n",
       "      <td>-70.000000</td>\n",
       "      <td>-70.000000</td>\n",
       "      <td>-69.000000</td>\n",
       "      <td>-69.000000</td>\n",
       "      <td>-74.000000</td>\n",
       "      <td>-75.000000</td>\n",
       "      <td>-73.000000</td>\n",
       "      <td>-73.000000</td>\n",
       "      <td>-71.000000</td>\n",
       "      <td>-72.000000</td>\n",
       "      <td>-69.000000</td>\n",
       "      <td>-70.000000</td>\n",
       "      <td>-70.000000</td>\n",
       "      <td>-71.000000</td>\n",
       "      <td>-72.000000</td>\n",
       "      <td>-74.000000</td>\n",
       "    </tr>\n",
       "    <tr>\n",
       "      <th>50%</th>\n",
       "      <td>-66.000000</td>\n",
       "      <td>-65.000000</td>\n",
       "      <td>-64.000000</td>\n",
       "      <td>-66.000000</td>\n",
       "      <td>-65.000000</td>\n",
       "      <td>-63.000000</td>\n",
       "      <td>-66.000000</td>\n",
       "      <td>-66.000000</td>\n",
       "      <td>-65.000000</td>\n",
       "      <td>-65.000000</td>\n",
       "      <td>-65.000000</td>\n",
       "      <td>-66.000000</td>\n",
       "      <td>-63.000000</td>\n",
       "      <td>-64.000000</td>\n",
       "      <td>-65.000000</td>\n",
       "      <td>-63.000000</td>\n",
       "      <td>-65.000000</td>\n",
       "      <td>-66.000000</td>\n",
       "    </tr>\n",
       "    <tr>\n",
       "      <th>75%</th>\n",
       "      <td>-61.000000</td>\n",
       "      <td>-59.000000</td>\n",
       "      <td>-59.000000</td>\n",
       "      <td>-61.000000</td>\n",
       "      <td>-59.000000</td>\n",
       "      <td>-57.000000</td>\n",
       "      <td>-60.000000</td>\n",
       "      <td>-59.000000</td>\n",
       "      <td>-58.000000</td>\n",
       "      <td>-58.000000</td>\n",
       "      <td>-59.000000</td>\n",
       "      <td>-61.000000</td>\n",
       "      <td>-58.000000</td>\n",
       "      <td>-58.000000</td>\n",
       "      <td>-58.000000</td>\n",
       "      <td>-57.000000</td>\n",
       "      <td>-59.000000</td>\n",
       "      <td>-59.000000</td>\n",
       "    </tr>\n",
       "    <tr>\n",
       "      <th>max</th>\n",
       "      <td>-41.000000</td>\n",
       "      <td>-37.000000</td>\n",
       "      <td>-41.000000</td>\n",
       "      <td>-39.000000</td>\n",
       "      <td>-36.000000</td>\n",
       "      <td>-39.000000</td>\n",
       "      <td>-45.000000</td>\n",
       "      <td>-39.000000</td>\n",
       "      <td>-39.000000</td>\n",
       "      <td>-37.000000</td>\n",
       "      <td>-40.000000</td>\n",
       "      <td>-43.000000</td>\n",
       "      <td>-43.000000</td>\n",
       "      <td>-39.000000</td>\n",
       "      <td>-38.000000</td>\n",
       "      <td>-40.000000</td>\n",
       "      <td>-43.000000</td>\n",
       "      <td>-39.000000</td>\n",
       "    </tr>\n",
       "  </tbody>\n",
       "</table>\n",
       "</div>"
      ],
      "text/plain": [
       "                 T1            T2            T3            T4            T5  \\\n",
       "count  36752.000000  36752.000000  36752.000000  36752.000000  36752.000000   \n",
       "mean     -65.865449    -64.521931    -64.574472    -65.296474    -64.462152   \n",
       "std        8.737286      8.914559      8.154517      8.142803      8.068375   \n",
       "min      -95.000000    -95.000000    -95.000000    -95.000000    -95.000000   \n",
       "25%      -72.000000    -70.000000    -70.000000    -70.000000    -69.000000   \n",
       "50%      -66.000000    -65.000000    -64.000000    -66.000000    -65.000000   \n",
       "75%      -61.000000    -59.000000    -59.000000    -61.000000    -59.000000   \n",
       "max      -41.000000    -37.000000    -41.000000    -39.000000    -36.000000   \n",
       "\n",
       "                 T6            T7            T8            T9           T10  \\\n",
       "count  36752.000000  36752.000000  36752.000000  36752.000000  36752.000000   \n",
       "mean     -63.318731    -67.030202    -66.591260    -65.692479    -65.555181   \n",
       "std        8.651501      9.257529     10.160193     10.598247     10.408147   \n",
       "min      -95.000000    -95.000000    -95.000000    -95.000000    -95.000000   \n",
       "25%      -69.000000    -74.000000    -75.000000    -73.000000    -73.000000   \n",
       "50%      -63.000000    -66.000000    -66.000000    -65.000000    -65.000000   \n",
       "75%      -57.000000    -60.000000    -59.000000    -58.000000    -58.000000   \n",
       "max      -39.000000    -45.000000    -39.000000    -39.000000    -37.000000   \n",
       "\n",
       "                T11           T12           T13           T14           T15  \\\n",
       "count  36752.000000  36752.000000  36752.000000  36752.000000  36752.000000   \n",
       "mean     -65.681922    -66.244204    -63.962614    -64.399080    -64.550011   \n",
       "std        9.453958      8.866239      8.254217      9.562839      9.207343   \n",
       "min      -95.000000    -95.000000    -95.000000    -95.000000    -95.000000   \n",
       "25%      -71.000000    -72.000000    -69.000000    -70.000000    -70.000000   \n",
       "50%      -65.000000    -66.000000    -63.000000    -64.000000    -65.000000   \n",
       "75%      -59.000000    -61.000000    -58.000000    -58.000000    -58.000000   \n",
       "max      -40.000000    -43.000000    -43.000000    -39.000000    -38.000000   \n",
       "\n",
       "                T16           T17           T18  \n",
       "count  36752.000000  36752.000000  36752.000000  \n",
       "mean     -64.136782    -65.910726    -66.590417  \n",
       "std       10.540542     10.071973     10.600992  \n",
       "min      -95.000000    -95.000000    -95.000000  \n",
       "25%      -71.000000    -72.000000    -74.000000  \n",
       "50%      -63.000000    -65.000000    -66.000000  \n",
       "75%      -57.000000    -59.000000    -59.000000  \n",
       "max      -40.000000    -43.000000    -39.000000  "
      ]
     },
     "execution_count": 6,
     "metadata": {},
     "output_type": "execute_result"
    }
   ],
   "source": [
    "train.describe()"
   ]
  },
  {
   "cell_type": "code",
   "execution_count": 7,
   "id": "f471e9ee",
   "metadata": {},
   "outputs": [
    {
     "data": {
      "text/plain": [
       "<Axes: >"
      ]
     },
     "execution_count": 7,
     "metadata": {},
     "output_type": "execute_result"
    },
    {
     "data": {
      "image/png": "[encoded data removed]",
      "text/plain": [
       "<Figure size 640x480 with 2 Axes>"
      ]
     },
     "metadata": {},
     "output_type": "display_data"
    }
   ],
   "source": [
    "sns.heatmap(train.corr())"
   ]
  },
  {
   "cell_type": "code",
   "execution_count": 8,
   "id": "e4030b7e",
   "metadata": {},
   "outputs": [
    {
     "data": {
      "text/plain": [
       "<Axes: >"
      ]
     },
     "execution_count": 8,
     "metadata": {},
     "output_type": "execute_result"
    },
    {
     "data": {
      "image/png": "[encoded data removed]",
      "text/plain": [
       "<Figure size 640x480 with 2 Axes>"
      ]
     },
     "metadata": {},
     "output_type": "display_data"
    }
   ],
   "source": [
    "sns.heatmap(train.isnull())"
   ]
  },
  {
   "cell_type": "code",
   "execution_count": 9,
   "id": "593fb821",
   "metadata": {},
   "outputs": [
    {
     "data": {
      "text/plain": [
       "Index(['T1', 'T2', 'T3', 'T4', 'T5', 'T6', 'T7', 'T8', 'T9', 'T10', 'T11',\n",
       "       'T12', 'T13', 'T14', 'T15', 'T16', 'T17', 'T18', 'target'],\n",
       "      dtype='object')"
      ]
     },
     "execution_count": 9,
     "metadata": {},
     "output_type": "execute_result"
    }
   ],
   "source": [
    "train.columns"
   ]
  },
  {
   "cell_type": "markdown",
   "id": "6f7eb051",
   "metadata": {},
   "source": [
    "### Feature Selection "
   ]
  },
  {
   "cell_type": "code",
   "execution_count": 10,
   "id": "2e1770f7",
   "metadata": {},
   "outputs": [
    {
     "data": {
      "text/plain": [
       "<bound method Series.unique of 0        B37\n",
       "1        B61\n",
       "2        A19\n",
       "3        A22\n",
       "4        A33\n",
       "        ... \n",
       "36747    B34\n",
       "36748    B15\n",
       "36749     A6\n",
       "36750     B2\n",
       "36751    B45\n",
       "Name: target, Length: 36752, dtype: object>"
      ]
     },
     "execution_count": 10,
     "metadata": {},
     "output_type": "execute_result"
    }
   ],
   "source": [
    "train['target'].unique"
   ]
  },
  {
   "cell_type": "code",
   "execution_count": 11,
   "id": "9b858cfb",
   "metadata": {},
   "outputs": [],
   "source": [
    "train=train.drop('target',axis=1)"
   ]
  },
  {
   "cell_type": "markdown",
   "id": "90f23965",
   "metadata": {},
   "source": [
    "### Determining the value of k"
   ]
  },
  {
   "cell_type": "code",
   "execution_count": 12,
   "id": "679e76de",
   "metadata": {
    "scrolled": false
   },
   "outputs": [
    {
     "data": {
      "image/png": "[encoded data removed]",
      "text/plain": [
       "<Figure size 600x600 with 1 Axes>"
      ]
     },
     "metadata": {},
     "output_type": "display_data"
    }
   ],
   "source": [
    "wcss=[]\n",
    "for k in range(1,11):\n",
    "    kmeans=KMeans(n_clusters=k,init='k-means++')\n",
    "    kmeans.fit(train)\n",
    "    wcss.append(kmeans.inertia_)\n",
    "el=KneeLocator(range(1,11),wcss,curve='convex',direction='decreasing')\n",
    "el.plot_knee()"
   ]
  },
  {
   "cell_type": "markdown",
   "id": "c8edf8c7",
   "metadata": {},
   "source": [
    "### Making Model"
   ]
  },
  {
   "cell_type": "code",
   "execution_count": 13,
   "id": "a3038d1d",
   "metadata": {},
   "outputs": [],
   "source": [
    "## Splitting data into train and test set\n",
    "train_x,test_x=train_test_split(train,test_size=0.25)\n",
    "model=KMeans(n_clusters=4,init='k-means++')\n",
    "train_y=model.fit(train_x)"
   ]
  },
  {
   "cell_type": "markdown",
   "id": "17b335af",
   "metadata": {},
   "source": [
    "### Predicting our model on test data"
   ]
  },
  {
   "cell_type": "code",
   "execution_count": 14,
   "id": "120d70e6",
   "metadata": {},
   "outputs": [],
   "source": [
    "#Checking performance of the model\n",
    "from sklearn.metrics import silhouette_score\n",
    "score=[]\n",
    "for k in range(2,11):\n",
    "    kmeans=KMeans(n_clusters=k,init='k-means++')\n",
    "    kmeans.fit(train_x)\n",
    "    s=silhouette_score(train_x,kmeans.labels_)\n",
    "    score.append(s)\n"
   ]
  },
  {
   "cell_type": "code",
   "execution_count": 15,
   "id": "c545a384",
   "metadata": {
    "scrolled": false
   },
   "outputs": [
    {
     "data": {
      "image/png": "[encoded data removed]",
      "text/plain": [
       "<Figure size 640x480 with 1 Axes>"
      ]
     },
     "metadata": {},
     "output_type": "display_data"
    }
   ],
   "source": [
    "#Plotting silhouette score\n",
    "plt.plot(range(2,11),score)\n",
    "plt.show()"
   ]
  },
  {
   "cell_type": "code",
   "execution_count": 16,
   "id": "3b92c2af",
   "metadata": {},
   "outputs": [
    {
     "data": {
      "text/plain": [
       "array([0, 1, 0, ..., 0, 3, 2])"
      ]
     },
     "execution_count": 16,
     "metadata": {},
     "output_type": "execute_result"
    }
   ],
   "source": [
    "y_pred=model.predict(test_x)\n",
    "y_pred"
   ]
  },
  {
   "cell_type": "code",
   "execution_count": 21,
   "id": "1ed3dda1",
   "metadata": {},
   "outputs": [
    {
     "name": "stdout",
     "output_type": "stream",
     "text": [
      "Enter values for T1 to T18 (Enter 18 values):\n",
      "58\n",
      "56\n",
      "59\n",
      "59\n",
      "51\n",
      "55\n",
      "55\n",
      "66\n",
      "2\n",
      "3\n",
      "58\n",
      "56\n",
      "59\n",
      "59\n",
      "52\n",
      "45\n",
      "45\n",
      "85\n",
      "This value belongs to cluster:  [0]\n",
      "Do you want to enter another data (Enter y for yes): n\n"
     ]
    }
   ],
   "source": [
    "### Getting an input from user and predicting which cluster it will belong to\n",
    "val=[]\n",
    "def get_input():\n",
    "    print(\"Enter values for T1 to T18 (Enter 18 values):\")\n",
    "    for i in range(18):\n",
    "        globals()['val'].append(int(input()))\n",
    "get_input()\n",
    "val=np.reshape(val,(1,18))\n",
    "pred=model.predict(val)\n",
    "print(\"This value belongs to cluster: \",pred)\n",
    "flag=1\n",
    "while(flag):\n",
    "    res=input(\"Do you want to enter another data (Enter y for yes): \")\n",
    "    if res[0]=='y' or res[0]=='Y':\n",
    "        get_input()\n",
    "    else:\n",
    "        flag=0"
   ]
  }
 ],
 "metadata": {
  "kernelspec": {
   "display_name": "Python 3 (ipykernel)",
   "language": "python",
   "name": "python3"
  },
  "language_info": {
   "codemirror_mode": {
    "name": "ipython",
    "version": 3
   },
   "file_extension": ".py",
   "mimetype": "text/x-python",
   "name": "python",
   "nbconvert_exporter": "python",
   "pygments_lexer": "ipython3",
   "version": "3.10.9"
  }
 },
 "nbformat": 4,
 "nbformat_minor": 5
}
